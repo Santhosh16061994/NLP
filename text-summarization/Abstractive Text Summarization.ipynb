{
 "cells": [
  {
   "cell_type": "code",
   "execution_count": 5,
   "id": "fd184e1e",
   "metadata": {},
   "outputs": [],
   "source": [
    "from transformers import pipeline\n",
    "# !pip install transformers"
   ]
  },
  {
   "cell_type": "code",
   "execution_count": 6,
   "id": "0cb35c13",
   "metadata": {},
   "outputs": [
    {
     "name": "stderr",
     "output_type": "stream",
     "text": [
      "c:\\Users\\Santhosh T N\\anaconda3\\lib\\site-packages\\transformers\\models\\t5\\tokenization_t5_fast.py:156: FutureWarning: This tokenizer was incorrectly instantiated with a model max length of 512 which will be corrected in Transformers v5.\n",
      "For now, this behavior is kept to avoid breaking backwards compatibility when padding/encoding with `truncation is True`.\n",
      "- Be aware that you SHOULD NOT rely on t5-base automatically truncating your input to 512 when padding/encoding.\n",
      "- If you want to encode/pad to sequences longer than 512 you can either instantiate this tokenizer with `model_max_length` or pass `max_length` when encoding/padding.\n",
      "- To avoid this warning, please instantiate this tokenizer with `model_max_length` set to your preferred value.\n",
      "  warnings.warn(\n"
     ]
    }
   ],
   "source": [
    "summarizer=pipeline(\"summarization\",model='t5-base',tokenizer='t5-base',framework='pt')"
   ]
  },
  {
   "cell_type": "code",
   "execution_count": 7,
   "id": "a28a7c9b",
   "metadata": {},
   "outputs": [],
   "source": [
    "text = \"\"\"In a world often dominated by negativity, it's important to remember the power of kindness and compassion. Small acts of kindness have the ability to brighten someone's day, uplift spirits, and create a ripple effect of positivity that can spread far and wide. Whether it's a smile to a stranger, a helping hand to a friend in need, or a thoughtful gesture to a colleague, every act of kindness has the potential to make a difference in someone's life.Beyond individual actions, there is also immense power in collective efforts to create positive change. When communities come together to support one another, incredible things can happen. From grassroots initiatives to global movements, people are uniting to tackle pressing social and environmental issues, driving meaningful progress and inspiring hope for a better future.It's also important to recognize the strength that lies within each and every one of us. We all have the ability to make a positive impact, no matter how small our actions may seem. By tapping into our innate compassion and empathy, we can cultivate a culture of kindness and empathy that enriches our lives and those around us.So let's embrace the power of kindness, and strive to make the world a better place one small act at a time. Together, we can create a brighter, more compassionate future for all.\"\"\""
   ]
  },
  {
   "cell_type": "code",
   "execution_count": 8,
   "id": "d9cbb410",
   "metadata": {},
   "outputs": [],
   "source": [
    "summary = summarizer(text,max_length=100,min_length=10,do_sample=False)"
   ]
  },
  {
   "cell_type": "code",
   "execution_count": 9,
   "id": "121e7e26",
   "metadata": {},
   "outputs": [
    {
     "data": {
      "text/plain": [
       "[{'summary_text': \"small acts of kindness can brighten someone's day, uplift spirits, and create a ripple effect of positivity . when communities come together to support one another, incredible things can happen . we all have the ability to make a positive impact, no matter how small our actions may seem .\"}]"
      ]
     },
     "execution_count": 9,
     "metadata": {},
     "output_type": "execute_result"
    }
   ],
   "source": [
    "summary"
   ]
  },
  {
   "cell_type": "code",
   "execution_count": 10,
   "id": "0266e51f",
   "metadata": {},
   "outputs": [
    {
     "name": "stdout",
     "output_type": "stream",
     "text": [
      "small acts of kindness can brighten someone's day, uplift spirits, and create a ripple effect of positivity . when communities come together to support one another, incredible things can happen . we all have the ability to make a positive impact, no matter how small our actions may seem .\n"
     ]
    }
   ],
   "source": [
    "print(summary[0]['summary_text'])"
   ]
  },
  {
   "cell_type": "markdown",
   "id": "0f86e633",
   "metadata": {},
   "source": [
    "# GUI"
   ]
  },
  {
   "cell_type": "code",
   "execution_count": 12,
   "id": "3edfc852",
   "metadata": {},
   "outputs": [
    {
     "name": "stderr",
     "output_type": "stream",
     "text": [
      "Your max_length is set to 1000, but you input_length is only 173. You might consider decreasing max_length manually, e.g. summarizer('...', max_length=86)\n"
     ]
    }
   ],
   "source": [
    "import tkinter as tk\n",
    "from tkinter import font\n",
    "from transformers import pipeline\n",
    "\n",
    "def summarize_text():\n",
    "    # Get text from the input text box\n",
    "    text = text_entry.get(\"1.0\", \"end-1c\")\n",
    "\n",
    "    # Summarize the text\n",
    "    summary = summarizer(text, max_length=1000, min_length=10, do_sample=False)\n",
    "\n",
    "    # Update the output text box with the summary\n",
    "    output_text.delete(\"1.0\", \"end\")\n",
    "    output_text.insert(\"1.0\", summary[0]['summary_text'])\n",
    "\n",
    "def clear_text():\n",
    "    # Clear both the input and output text boxes\n",
    "    text_entry.delete(\"1.0\", \"end\")\n",
    "    output_text.delete(\"1.0\", \"end\")\n",
    "    # Add watermark again after clearing the text\n",
    "    add_watermark(None)\n",
    "\n",
    "def on_click(event):\n",
    "    # If the watermark is present, clear the text box when clicked\n",
    "    if text_entry.get(\"1.0\", \"end-1c\") == \"Enter your text here\":\n",
    "        text_entry.delete(\"1.0\", \"end\")\n",
    "\n",
    "def add_watermark(event):\n",
    "    # Add watermark if the text box is empty\n",
    "    if text_entry.get(\"1.0\", \"end-1c\") == \"\":\n",
    "        text_entry.insert(\"1.0\", \"Enter your text here\")\n",
    "        text_entry.config(fg=\"gray\")  # Set watermark color\n",
    "\n",
    "def remove_watermark(event):\n",
    "    # If the user starts typing, remove the watermark\n",
    "    if text_entry.get(\"1.0\", \"end-1c\") == \"Enter your text here\":\n",
    "        text_entry.delete(\"1.0\", \"end\")\n",
    "        text_entry.config(fg=\"black\")\n",
    "\n",
    "# Create a Tkinter window\n",
    "window = tk.Tk()\n",
    "window.title(\"Text Summarizer\")\n",
    "window.geometry(\"800x600\")  # Set window size\n",
    "\n",
    "# Add title at the top with larger font size\n",
    "title_font = font.Font(family='Helvetica', size=20, weight='bold')\n",
    "title_label = tk.Label(window, text=\"Text Summarization\", font=title_font)\n",
    "title_label.pack(pady=20)\n",
    "\n",
    "# Create input text box\n",
    "text_entry = tk.Text(window, height=15, width=100, font=(\"Arial\", 12), wrap=\"word\", fg=\"gray\")\n",
    "text_entry.pack(pady=10)\n",
    "\n",
    "# Bind events to handle watermark behavior\n",
    "text_entry.bind(\"<FocusIn>\", remove_watermark)  # Remove watermark on focus\n",
    "text_entry.bind(\"<FocusOut>\", add_watermark)   # Add watermark if the field is empty\n",
    "\n",
    "# Add initial watermark text\n",
    "add_watermark(None)\n",
    "\n",
    "# Create output text box\n",
    "output_text = tk.Text(window, height=15, width=100, font=(\"Arial\", 12), wrap=\"word\", state=\"normal\")\n",
    "output_text.pack(pady=10)\n",
    "\n",
    "# Create a button to trigger text summarization\n",
    "summarize_button = tk.Button(window, text=\"Summarize\", command=summarize_text, font=(\"Arial\", 14), bg=\"lightblue\", width=20)\n",
    "summarize_button.pack(pady=10)\n",
    "\n",
    "# Create a button to clear both text boxes\n",
    "clear_button = tk.Button(window, text=\"Clear\", command=clear_text, font=(\"Arial\", 14), bg=\"lightcoral\", width=20)\n",
    "clear_button.pack(pady=10)\n",
    "\n",
    "# Initialize the summarizer pipeline\n",
    "summarizer = pipeline(\"summarization\", model=\"t5-base\", tokenizer=\"t5-base\", framework=\"pt\")\n",
    "\n",
    "# Run the Tkinter event loop\n",
    "window.mainloop()\n"
   ]
  },
  {
   "cell_type": "code",
   "execution_count": null,
   "id": "3bb388a6",
   "metadata": {},
   "outputs": [],
   "source": []
  }
 ],
 "metadata": {
  "kernelspec": {
   "display_name": "base",
   "language": "python",
   "name": "python3"
  },
  "language_info": {
   "codemirror_mode": {
    "name": "ipython",
    "version": 3
   },
   "file_extension": ".py",
   "mimetype": "text/x-python",
   "name": "python",
   "nbconvert_exporter": "python",
   "pygments_lexer": "ipython3",
   "version": "3.10.15"
  }
 },
 "nbformat": 4,
 "nbformat_minor": 5
}
